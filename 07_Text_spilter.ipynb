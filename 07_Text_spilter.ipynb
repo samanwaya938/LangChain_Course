{
 "cells": [
  {
   "cell_type": "markdown",
   "id": "e1fd533e",
   "metadata": {},
   "source": [
    "## Character Text Spliter"
   ]
  },
  {
   "cell_type": "code",
   "execution_count": 4,
   "id": "5aff47db",
   "metadata": {},
   "outputs": [
    {
     "name": "stdout",
     "output_type": "stream",
     "text": [
      "6\n",
      "<class 'list'>\n",
      "it easy to build LLM\n"
     ]
    }
   ],
   "source": [
    "from langchain.text_splitter import CharacterTextSplitter\n",
    "\n",
    "text = \"Lancgchain makes it easy to build LLM-powerd app. It has text splitters to handle large documents.\"\n",
    "\n",
    "ch_spliter = CharacterTextSplitter(\n",
    "  separator=\"\", chunk_size = 20, chunk_overlap = 3\n",
    ")\n",
    "\n",
    "chunks = ch_spliter.split_text(text)\n",
    "\n",
    "print(len(chunks))\n",
    "print(type(chunks))\n",
    "print(chunks[1])"
   ]
  },
  {
   "cell_type": "code",
   "execution_count": 6,
   "id": "b5547584",
   "metadata": {},
   "outputs": [
    {
     "name": "stdout",
     "output_type": "stream",
     "text": [
      "Lancgchain makes it\n",
      "it easy to build LLM\n",
      "LLM-powerd app. It h\n",
      "t has text splitters\n",
      "ers to handle large\n",
      "ge documents.\n"
     ]
    }
   ],
   "source": [
    "for i in chunks:\n",
    "  print(i)"
   ]
  },
  {
   "cell_type": "markdown",
   "id": "bc2e745d",
   "metadata": {},
   "source": [
    "## Recursive Character Text Spliter"
   ]
  },
  {
   "cell_type": "code",
   "execution_count": null,
   "id": "5e2a5f26",
   "metadata": {},
   "outputs": [
    {
     "name": "stdout",
     "output_type": "stream",
     "text": [
      "1663\n",
      "page_content='NumPy                                                                                                                             7\n",
      "SciPy                                                                                                                                 8\n",
      "matplotlib                                                                                                                        9' metadata={'producer': '3-Heights(TM) PDF Optimization Shell 5.9.1.5 (http://www.pdf-tools.com)', 'creator': 'AH CSS Formatter V6.2 MR4 for Linux64 : 6.2.6.18551 (2014/09/24 15:00JST)', 'creationdate': '2016-09-21T13:04:39+00:00', 'author': 'Andreas C. Müller and Sarah Guido', 'title': 'Introduction to Machine Learning with Python', 'trapped': '/False', 'moddate': '2020-08-19T07:09:16+02:00', 'source': 'Machine Learning.pdf', 'total_pages': 392, 'page': 4, 'page_label': 'iii'}\n"
     ]
    }
   ],
   "source": [
    "from langchain_community.document_loaders import PyPDFLoader\n",
    "from langchain.text_splitter import RecursiveCharacterTextSplitter\n",
    "\n",
    "path = \"Machine Learning.pdf\"\n",
    "pdf_loader = PyPDFLoader(path)\n",
    "pdf_docs = pdf_loader.load()\n",
    "\n",
    "rec_spliter = RecursiveCharacterTextSplitter(\n",
    "  separators=[\"\\n\\n\", \"\\n\", \".\", \" \",\"\"], chunk_size = 500, chunk_overlap= 30\n",
    ")\n",
    "\n",
    "pdf_chunk = rec_spliter.split_documents(pdf_docs)\n",
    "\n",
    "print(len(pdf_chunk))\n",
    "print(pdf_chunk[10])\n"
   ]
  },
  {
   "cell_type": "code",
   "execution_count": 11,
   "id": "4dfb14e7",
   "metadata": {},
   "outputs": [
    {
     "name": "stdout",
     "output_type": "stream",
     "text": [
      "Challenges in Unsupervised Learning                                                                        132\n",
      "Preprocessing and Scaling                                                                                            132\n",
      "Different Kinds of Preprocessing                                                                             133\n",
      "Applying Data Transformations                                                                               134\n"
     ]
    }
   ],
   "source": [
    "print(pdf_chunk[20].page_content)"
   ]
  },
  {
   "cell_type": "markdown",
   "id": "6b21fd65",
   "metadata": {},
   "source": [
    "## MarkdownHeader Text Spliter"
   ]
  },
  {
   "cell_type": "code",
   "execution_count": 13,
   "id": "eee5f267",
   "metadata": {},
   "outputs": [
    {
     "name": "stdout",
     "output_type": "stream",
     "text": [
      "9\n",
      "Artificial Intelligence (AI) is transforming industries and redefining innovation.\n",
      "In this guide, weâ€™ll explore its history, applications, and future.  \n",
      "---\n"
     ]
    }
   ],
   "source": [
    "from langchain_community.document_loaders import TextLoader\n",
    "from langchain.text_splitter import MarkdownHeaderTextSplitter\n",
    "\n",
    "path = \"text.md\"\n",
    "\n",
    "md_laoder = TextLoader(path)\n",
    "md_docs = md_laoder.load()\n",
    "\n",
    "md_text = md_docs[0].page_content\n",
    "\n",
    "md_spliter= MarkdownHeaderTextSplitter(\n",
    "  headers_to_split_on=[(\"#\",\"Title\"), (\"##\", \"Section\"), (\"###\",\"Subsection\")]\n",
    ")\n",
    "\n",
    "md_chunks = md_spliter.split_text(md_text)\n",
    "\n",
    "print(len(md_chunks))\n",
    "print(md_chunks[0].page_content)"
   ]
  },
  {
   "cell_type": "code",
   "execution_count": 15,
   "id": "ff413259",
   "metadata": {},
   "outputs": [
    {
     "name": "stdout",
     "output_type": "stream",
     "text": [
      "The future of AI will include:\n",
      "- **AGI (Artificial General Intelligence)** research\n",
      "- Ethical and policy challenges\n",
      "- Widespread automation of routine tasks\n"
     ]
    }
   ],
   "source": [
    "print(md_chunks[8].page_content)"
   ]
  },
  {
   "cell_type": "code",
   "execution_count": 17,
   "id": "75411713",
   "metadata": {},
   "outputs": [
    {
     "name": "stdout",
     "output_type": "stream",
     "text": [
      "Artificial Intelligence (AI) is transforming industries and redefining innovation.\n",
      "In this guide, weâ€™ll explore its history, applications, and future.  \n",
      "---\n",
      "The history of AI dates back to ancient myths of mechanical beings.\n",
      "However, true AI research began in the **1950s**.\n",
      "In 1956, the Dartmouth Conference marked the birth of AI as a field.\n",
      "Key contributors included **John McCarthy** and **Marvin Minsky**.\n",
      "AI faced multiple \"winters\" due to lack of funding and slow progress.  \n",
      "---\n",
      "AI is everywhere today.\n",
      "Some of the most impactful applications include:\n",
      "- Medical imaging analysis\n",
      "- Predictive diagnostics\n",
      "- Drug discovery\n",
      "- Fraud detection\n",
      "- Algorithmic trading\n",
      "- Risk assessment\n",
      "Self-driving cars, drones, and smart traffic management systems.  \n",
      "---\n",
      "The future of AI will include:\n",
      "- **AGI (Artificial General Intelligence)** research\n",
      "- Ethical and policy challenges\n",
      "- Widespread automation of routine tasks\n"
     ]
    }
   ],
   "source": [
    "for i in md_chunks:\n",
    "  print(i.page_content)"
   ]
  },
  {
   "cell_type": "code",
   "execution_count": null,
   "id": "f7ad8ddb",
   "metadata": {},
   "outputs": [],
   "source": []
  }
 ],
 "metadata": {
  "kernelspec": {
   "display_name": "myenv",
   "language": "python",
   "name": "python3"
  },
  "language_info": {
   "codemirror_mode": {
    "name": "ipython",
    "version": 3
   },
   "file_extension": ".py",
   "mimetype": "text/x-python",
   "name": "python",
   "nbconvert_exporter": "python",
   "pygments_lexer": "ipython3",
   "version": "3.10.8"
  }
 },
 "nbformat": 4,
 "nbformat_minor": 5
}
