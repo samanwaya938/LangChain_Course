{
 "cells": [
  {
   "cell_type": "markdown",
   "id": "c6f77df1",
   "metadata": {},
   "source": [
    "## String PromptTemplate"
   ]
  },
  {
   "cell_type": "code",
   "execution_count": 3,
   "id": "ad5fc184",
   "metadata": {},
   "outputs": [],
   "source": [
    "from langchain_core.prompts import PromptTemplate\n",
    "prompt_template = PromptTemplate.from_template(\"What is the capital of {country}?\")\n",
    "prompt = prompt_template.invoke({\"country\": \"France\"})"
   ]
  },
  {
   "cell_type": "code",
   "execution_count": 5,
   "id": "69220e05",
   "metadata": {},
   "outputs": [
    {
     "name": "stdout",
     "output_type": "stream",
     "text": [
      "content='The capital of France is Paris.' additional_kwargs={'refusal': None} response_metadata={'token_usage': {'completion_tokens': 7, 'prompt_tokens': 14, 'total_tokens': 21, 'completion_tokens_details': {'accepted_prediction_tokens': 0, 'audio_tokens': 0, 'reasoning_tokens': 0, 'rejected_prediction_tokens': 0}, 'prompt_tokens_details': {'audio_tokens': 0, 'cached_tokens': 0}}, 'model_name': 'gpt-4o-mini-2024-07-18', 'system_fingerprint': 'fp_62a23a81ef', 'id': 'chatcmpl-C0Dokgrt4y0cFsf2LFgFZTyuLpCaz', 'service_tier': 'default', 'finish_reason': 'stop', 'logprobs': None} id='run--8786e5be-f79c-4a26-abee-21b648862dc8-0' usage_metadata={'input_tokens': 14, 'output_tokens': 7, 'total_tokens': 21, 'input_token_details': {'audio': 0, 'cache_read': 0}, 'output_token_details': {'audio': 0, 'reasoning': 0}}\n"
     ]
    }
   ],
   "source": [
    "from langchain_openai import ChatOpenAI\n",
    "llm = ChatOpenAI(model=\"gpt-4o-mini\", temperature=0)\n",
    "response = llm.invoke(prompt)\n",
    "print(response)"
   ]
  },
  {
   "cell_type": "markdown",
   "id": "47c87182",
   "metadata": {},
   "source": [
    "## ChatPrompttemplate"
   ]
  },
  {
   "cell_type": "code",
   "execution_count": 7,
   "id": "24052239",
   "metadata": {},
   "outputs": [
    {
     "name": "stdout",
     "output_type": "stream",
     "text": [
      "messages=[SystemMessage(content='You are a helpful assistant.', additional_kwargs={}, response_metadata={}), HumanMessage(content='What is the capital of France?', additional_kwargs={}, response_metadata={})]\n"
     ]
    }
   ],
   "source": [
    "from langchain_core.prompts import ChatPromptTemplate\n",
    "chat_template = ChatPromptTemplate([\n",
    "    (\"system\", \"You are a helpful assistant.\"),\n",
    "    (\"user\", \"What is the capital of {country}?\"),\n",
    "    \n",
    "])\n",
    "\n",
    "prompt = chat_template.invoke({\"country\": \"France\"})\n",
    "print(prompt)"
   ]
  },
  {
   "cell_type": "code",
   "execution_count": 10,
   "id": "cc3cdb9e",
   "metadata": {},
   "outputs": [
    {
     "data": {
      "text/plain": [
       "'The capital of France is Paris.'"
      ]
     },
     "execution_count": 10,
     "metadata": {},
     "output_type": "execute_result"
    }
   ],
   "source": [
    "response = llm.invoke(prompt)\n",
    "response.content"
   ]
  },
  {
   "cell_type": "markdown",
   "id": "911ec0a6",
   "metadata": {},
   "source": [
    "## MessagesPlaceHolder"
   ]
  },
  {
   "cell_type": "code",
   "execution_count": 18,
   "id": "47052433",
   "metadata": {},
   "outputs": [
    {
     "data": {
      "text/plain": [
       "'The capital of France is Paris.'"
      ]
     },
     "execution_count": 18,
     "metadata": {},
     "output_type": "execute_result"
    }
   ],
   "source": [
    "from langchain_core.prompts import ChatPromptTemplate, MessagesPlaceholder\n",
    "from langchain_core.messages import HumanMessage\n",
    "\n",
    "prompt_template = ChatPromptTemplate([\n",
    "    (\"system\", \"You are a helpful assistant.\"),\n",
    "    MessagesPlaceholder(\"msg\")\n",
    "])\n",
    "\n",
    "prompt = prompt_template.invoke({\"msg\": [HumanMessage(content=\"What is the capital of France?\")]\n",
    "})\n",
    "llm.invoke(prompt).content"
   ]
  },
  {
   "cell_type": "code",
   "execution_count": 19,
   "id": "609da862",
   "metadata": {},
   "outputs": [
    {
     "name": "stdout",
     "output_type": "stream",
     "text": [
      "messages=[SystemMessage(content='You are a helpful assistant.', additional_kwargs={}, response_metadata={}), HumanMessage(content='Hello, can you help me with Python Coding?', additional_kwargs={}, response_metadata={}), AIMessage(content='Of course! What do you need help with?', additional_kwargs={}, response_metadata={}), HumanMessage(content='I am stuck on adding two numbers in Python.', additional_kwargs={}, response_metadata={})]\n"
     ]
    }
   ],
   "source": [
    "from langchain_core.prompts import ChatPromptTemplate, MessagesPlaceholder\n",
    "from langchain_core.messages import HumanMessage, AIMessage\n",
    "\n",
    "prompt_template = ChatPromptTemplate([\n",
    "    (\"system\", \"You are a helpful assistant.\"),\n",
    "    MessagesPlaceholder(variable_name =\"msg\")\n",
    "])\n",
    "\n",
    "# Define multiple messages\n",
    "messages = [\n",
    "    HumanMessage(content=\"Hello, can you help me with Python Coding?\"),\n",
    "    AIMessage(content=\"Of course! What do you need help with?\"),\n",
    "    HumanMessage(content=\"I am stuck on adding two numbers in Python.\"),\n",
    "]\n",
    "\n",
    "# Invoking the prompt with messages\n",
    "\n",
    "\n",
    "output = prompt_template.invoke({\"msg\": messages})\n",
    "print(output)"
   ]
  },
  {
   "cell_type": "code",
   "execution_count": 20,
   "id": "71ccabb2",
   "metadata": {},
   "outputs": [
    {
     "data": {
      "text/plain": [
       "'No problem! Adding two numbers in Python is quite simple. Here’s a basic example:\\n\\n```python\\n# Define two numbers\\nnum1 = 5\\nnum2 = 3\\n\\n# Add the two numbers\\nsum = num1 + num2\\n\\n# Print the result\\nprint(\"The sum is:\", sum)\\n```\\n\\nIf you want to take input from the user, you can do it like this:\\n\\n```python\\n# Take input from the user\\nnum1 = float(input(\"Enter the first number: \"))\\nnum2 = float(input(\"Enter the second number: \"))\\n\\n# Add the two numbers\\nsum = num1 + num2\\n\\n# Print the result\\nprint(\"The sum is:\", sum)\\n```\\n\\nIn this code, `input()` is used to get user input, and `float()` converts the input to a floating-point number, allowing for decimal values. \\n\\nLet me know if you need further assistance!'"
      ]
     },
     "execution_count": 20,
     "metadata": {},
     "output_type": "execute_result"
    }
   ],
   "source": [
    "llm.invoke(output).content"
   ]
  },
  {
   "cell_type": "code",
   "execution_count": 1,
   "id": "6e5f2e54",
   "metadata": {},
   "outputs": [
    {
     "data": {
      "text/plain": [
       "4"
      ]
     },
     "execution_count": 1,
     "metadata": {},
     "output_type": "execute_result"
    }
   ],
   "source": [
    "2+2"
   ]
  },
  {
   "cell_type": "code",
   "execution_count": null,
   "id": "65146ff0",
   "metadata": {},
   "outputs": [],
   "source": []
  }
 ],
 "metadata": {
  "kernelspec": {
   "display_name": "myenv",
   "language": "python",
   "name": "python3"
  },
  "language_info": {
   "codemirror_mode": {
    "name": "ipython",
    "version": 3
   },
   "file_extension": ".py",
   "mimetype": "text/x-python",
   "name": "python",
   "nbconvert_exporter": "python",
   "pygments_lexer": "ipython3",
   "version": "3.10.8"
  }
 },
 "nbformat": 4,
 "nbformat_minor": 5
}
