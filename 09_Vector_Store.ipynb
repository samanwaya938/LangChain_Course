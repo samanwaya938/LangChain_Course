{
 "cells": [
  {
   "cell_type": "markdown",
   "id": "e36ea511",
   "metadata": {},
   "source": [
    "## Choma DB"
   ]
  },
  {
   "cell_type": "markdown",
   "id": "ee521c77",
   "metadata": {},
   "source": [
    "### Adding Text"
   ]
  },
  {
   "cell_type": "code",
   "execution_count": null,
   "id": "d63c3ea4",
   "metadata": {},
   "outputs": [
    {
     "name": "stderr",
     "output_type": "stream",
     "text": [
      "C:\\Users\\SAMANWAYA\\AppData\\Local\\Temp\\ipykernel_18396\\3249221754.py:14: LangChainDeprecationWarning: Since Chroma 0.4.x the manual persistence method is no longer supported as docs are automatically persisted.\n",
      "  ch_text_db.persist()\n"
     ]
    }
   ],
   "source": [
    "from langchain.vectorstores import Chroma\n",
    "from langchain_google_genai import GoogleGenerativeAIEmbeddings\n",
    "from dotenv import load_dotenv\n",
    "\n",
    "\n",
    "load_dotenv()\n",
    "\n",
    "embeddings = GoogleGenerativeAIEmbeddings(model=\"gemini-embedding-001\")\n",
    "\n",
    "text_docs = [\"Hello World\", \"World Economy\"]\n",
    "\n",
    "ch_text_db = Chroma.from_texts(texts=text_docs, embedding=embeddings, collection_name=\"My_text\", persist_directory=\"Chroma_db\")\n",
    "\n",
    "ch_text_db.persist()"
   ]
  },
  {
   "cell_type": "code",
   "execution_count": 4,
   "id": "0521b37f",
   "metadata": {},
   "outputs": [
    {
     "name": "stdout",
     "output_type": "stream",
     "text": [
      "['Hello World', 'World Economy']\n"
     ]
    }
   ],
   "source": [
    "print(ch_text_db.get()['documents'])"
   ]
  },
  {
   "cell_type": "code",
   "execution_count": 5,
   "id": "d9c2737b",
   "metadata": {},
   "outputs": [
    {
     "name": "stdout",
     "output_type": "stream",
     "text": [
      "['Hello World', 'World Economy', 'Data Science', 'Machine Learning']\n"
     ]
    }
   ],
   "source": [
    "text_docs2 = [\"Data Science\", \"Machine Learning\"]\n",
    "ch_text_db.add_texts(texts=text_docs2)\n",
    "\n",
    "print(ch_text_db.get()['documents'])"
   ]
  },
  {
   "cell_type": "markdown",
   "id": "69446a51",
   "metadata": {},
   "source": [
    "### Adding Documents"
   ]
  },
  {
   "cell_type": "code",
   "execution_count": 1,
   "id": "bb5252c4",
   "metadata": {},
   "outputs": [
    {
     "name": "stdout",
     "output_type": "stream",
     "text": [
      "['Hello World', 'World Economy']\n"
     ]
    },
    {
     "name": "stderr",
     "output_type": "stream",
     "text": [
      "C:\\Users\\SAMANWAYA\\AppData\\Local\\Temp\\ipykernel_14856\\969385867.py:18: LangChainDeprecationWarning: Since Chroma 0.4.x the manual persistence method is no longer supported as docs are automatically persisted.\n",
      "  ch_doc_db.persist()\n"
     ]
    }
   ],
   "source": [
    "from importlib import metadata\n",
    "from langchain.vectorstores import Chroma\n",
    "from langchain_google_genai import GoogleGenerativeAIEmbeddings\n",
    "from langchain.schema import Document\n",
    "from dotenv import load_dotenv\n",
    "\n",
    "\n",
    "load_dotenv()\n",
    "\n",
    "embeddings = GoogleGenerativeAIEmbeddings(model=\"gemini-embedding-001\")\n",
    "\n",
    "docs = [\n",
    "  Document(page_content=\"Hello World\", metadata={\"source\": \"doc1\"}),\n",
    "  Document(page_content=\"World Economy\", metadata={\"source\": \"do2\"})\n",
    "]\n",
    "\n",
    "ch_doc_db = Chroma.from_documents(documents=docs, embedding=embeddings, collection_name=\"My_docs\", persist_directory=\"Chroma_db\")\n",
    "ch_doc_db.persist()\n",
    "print(ch_doc_db.get()[\"documents\"])"
   ]
  },
  {
   "cell_type": "code",
   "execution_count": 2,
   "id": "80a5e198",
   "metadata": {},
   "outputs": [
    {
     "name": "stdout",
     "output_type": "stream",
     "text": [
      "['Hello World', 'World Economy', 'Data Science', 'Machine Learning']\n"
     ]
    }
   ],
   "source": [
    "docs2 = [\n",
    "  Document(page_content=\"Data Science\", metadata={\"source\": \"doc3\"}),\n",
    "  Document(page_content=\"Machine Learning\", metadata={\"source\": \"doc4\"})\n",
    "]\n",
    "\n",
    "ch_doc_db.add_documents(documents=docs2)\n",
    "print(ch_doc_db.get()[\"documents\"])"
   ]
  },
  {
   "cell_type": "markdown",
   "id": "1e2d8909",
   "metadata": {},
   "source": [
    "### Similarity Search"
   ]
  },
  {
   "cell_type": "code",
   "execution_count": 6,
   "id": "2af44c0f",
   "metadata": {},
   "outputs": [
    {
     "name": "stdout",
     "output_type": "stream",
     "text": [
      "World Economy {'source': 'do2'}\n",
      "Hello World {'source': 'doc1'}\n",
      "Machine Learning {'source': 'doc4'}\n",
      "Data Science {'source': 'doc3'}\n"
     ]
    }
   ],
   "source": [
    "result = ch_doc_db.similarity_search(\"World\", k=4)\n",
    "for i in result:\n",
    "  print(i.page_content, i.metadata)"
   ]
  },
  {
   "cell_type": "markdown",
   "id": "5acf14ef",
   "metadata": {},
   "source": [
    "## FAISS"
   ]
  },
  {
   "cell_type": "markdown",
   "id": "cfd0e3d3",
   "metadata": {},
   "source": [
    "### Adding Text"
   ]
  },
  {
   "cell_type": "code",
   "execution_count": null,
   "id": "467c715e",
   "metadata": {},
   "outputs": [],
   "source": [
    "from langchain.vectorstores import FAISS\n",
    "from langchain_google_genai import GoogleGenerativeAIEmbeddings\n",
    "from dotenv import load_dotenv\n",
    "\n",
    "\n",
    "load_dotenv()\n",
    "\n",
    "embeddings = GoogleGenerativeAIEmbeddings(model=\"gemini-embedding-001\")\n",
    "\n",
    "text_docs = [\"Hello World 2\", \"World Economy 2\"]\n",
    "\n",
    "\n",
    "faiss_text_db = FAISS.from_texts(texts=text_docs, embedding=embeddings)"
   ]
  },
  {
   "cell_type": "code",
   "execution_count": 10,
   "id": "0c76fec1",
   "metadata": {},
   "outputs": [
    {
     "name": "stdout",
     "output_type": "stream",
     "text": [
      "Hello World 2\n",
      "World Economy 2\n"
     ]
    }
   ],
   "source": [
    "result1 = list(faiss_text_db.docstore._dict.values())\n",
    "for d in result1:\n",
    "  print(d.page_content)"
   ]
  },
  {
   "cell_type": "code",
   "execution_count": 12,
   "id": "8992dc96",
   "metadata": {},
   "outputs": [],
   "source": [
    "text_docs2 = [\"Data Science 2 \", \"Machine Learning 2\"]\n",
    "\n",
    "faiss_text_db2 = FAISS.from_texts(texts=text_docs2, embedding=embeddings)"
   ]
  },
  {
   "cell_type": "code",
   "execution_count": 14,
   "id": "0239d753",
   "metadata": {},
   "outputs": [
    {
     "name": "stdout",
     "output_type": "stream",
     "text": [
      "Data Science 2 \n",
      "Machine Learning 2\n"
     ]
    }
   ],
   "source": [
    "result2 = list(faiss_text_db2.docstore._dict.values())\n",
    "for d in result2:\n",
    "  print(d.page_content)"
   ]
  },
  {
   "cell_type": "code",
   "execution_count": 15,
   "id": "099653be",
   "metadata": {},
   "outputs": [],
   "source": [
    "faiss_text_db2.merge_from(faiss_text_db)"
   ]
  },
  {
   "cell_type": "code",
   "execution_count": 16,
   "id": "52cdd699",
   "metadata": {},
   "outputs": [
    {
     "name": "stdout",
     "output_type": "stream",
     "text": [
      "Data Science 2 \n",
      "Machine Learning 2\n",
      "Hello World 2\n",
      "World Economy 2\n"
     ]
    }
   ],
   "source": [
    "result3 = list(faiss_text_db2.docstore._dict.values())\n",
    "for d in result3:\n",
    "  print(d.page_content)"
   ]
  },
  {
   "cell_type": "markdown",
   "id": "d9c11282",
   "metadata": {},
   "source": [
    "### Adding Document"
   ]
  },
  {
   "cell_type": "code",
   "execution_count": 17,
   "id": "7267e6d2",
   "metadata": {},
   "outputs": [],
   "source": [
    "from langchain.vectorstores import FAISS\n",
    "from langchain_google_genai import GoogleGenerativeAIEmbeddings\n",
    "from langchain.schema import Document\n",
    "from dotenv import load_dotenv\n",
    "\n",
    "load_dotenv()\n",
    "\n",
    "embeddings = GoogleGenerativeAIEmbeddings(model=\"gemini-embedding-001\")\n",
    "\n",
    "docs = [\n",
    "  Document(page_content=\"Hello World 2\", metadata={\"source\": \"doc1\"}),\n",
    "  Document(page_content=\"World Economy 2\", metadata={\"source\": \"doc2\"})\n",
    "  \n",
    "]\n",
    "\n",
    "faiss_doc_db = FAISS.from_documents(documents=docs, embedding=embeddings)\n"
   ]
  },
  {
   "cell_type": "code",
   "execution_count": 18,
   "id": "d855cf09",
   "metadata": {},
   "outputs": [
    {
     "name": "stdout",
     "output_type": "stream",
     "text": [
      "Hello World 2\n",
      "World Economy 2\n"
     ]
    }
   ],
   "source": [
    "result4 = list(faiss_doc_db.docstore._dict.values())\n",
    "for d in result4:\n",
    "  print(d.page_content)"
   ]
  },
  {
   "cell_type": "code",
   "execution_count": 19,
   "id": "0ae225fd",
   "metadata": {},
   "outputs": [
    {
     "name": "stdout",
     "output_type": "stream",
     "text": [
      "Data Science 2\n",
      "Machine Learning 2\n",
      "Hello World 2\n",
      "World Economy 2\n"
     ]
    }
   ],
   "source": [
    "docs2 = [\n",
    "  Document(page_content=\"Data Science 2\", metadata={\"source\": \"doc3\"}),\n",
    "  Document(page_content=\"Machine Learning 2\", metadata={\"source\": \"doc4\"})  \n",
    "]\n",
    "\n",
    "faiss_doc_db2 = FAISS.from_documents(documents=docs2, embedding=embeddings)\n",
    "\n",
    "faiss_doc_db2.merge_from(faiss_doc_db)\n",
    "\n",
    "result5 = list(faiss_doc_db2.docstore._dict.values())\n",
    "for d in result5:\n",
    "  print(d.page_content)"
   ]
  },
  {
   "cell_type": "code",
   "execution_count": 22,
   "id": "776e028c",
   "metadata": {},
   "outputs": [
    {
     "name": "stdout",
     "output_type": "stream",
     "text": [
      "Data Science 2 {'source': 'doc3'}\n",
      "Machine Learning 2 {'source': 'doc4'}\n"
     ]
    }
   ],
   "source": [
    "result6 =faiss_doc_db2.similarity_search(\"Science\", k=2)\n",
    "for i in result6:\n",
    "  print(i.page_content, i.metadata)"
   ]
  },
  {
   "cell_type": "code",
   "execution_count": null,
   "id": "439f9bee",
   "metadata": {},
   "outputs": [],
   "source": []
  },
  {
   "cell_type": "code",
   "execution_count": null,
   "id": "b8ec6a73",
   "metadata": {},
   "outputs": [],
   "source": []
  },
  {
   "cell_type": "code",
   "execution_count": null,
   "id": "9bfb6922",
   "metadata": {},
   "outputs": [],
   "source": []
  },
  {
   "cell_type": "code",
   "execution_count": null,
   "id": "a11eba63",
   "metadata": {},
   "outputs": [],
   "source": []
  },
  {
   "cell_type": "code",
   "execution_count": null,
   "id": "8f502f5d",
   "metadata": {},
   "outputs": [],
   "source": []
  },
  {
   "cell_type": "code",
   "execution_count": null,
   "id": "ab897af6",
   "metadata": {},
   "outputs": [],
   "source": []
  },
  {
   "cell_type": "code",
   "execution_count": null,
   "id": "c8f0bac4",
   "metadata": {},
   "outputs": [],
   "source": []
  },
  {
   "cell_type": "code",
   "execution_count": null,
   "id": "db6e4294",
   "metadata": {},
   "outputs": [],
   "source": []
  },
  {
   "cell_type": "code",
   "execution_count": null,
   "id": "99ec6180",
   "metadata": {},
   "outputs": [],
   "source": []
  },
  {
   "cell_type": "code",
   "execution_count": null,
   "id": "735108dd",
   "metadata": {},
   "outputs": [],
   "source": []
  },
  {
   "cell_type": "code",
   "execution_count": null,
   "id": "ef8d7605",
   "metadata": {},
   "outputs": [],
   "source": []
  },
  {
   "cell_type": "code",
   "execution_count": null,
   "id": "41b25e54",
   "metadata": {},
   "outputs": [],
   "source": []
  },
  {
   "cell_type": "code",
   "execution_count": null,
   "id": "d1b505b1",
   "metadata": {},
   "outputs": [],
   "source": []
  },
  {
   "cell_type": "code",
   "execution_count": null,
   "id": "04e475ac",
   "metadata": {},
   "outputs": [],
   "source": []
  },
  {
   "cell_type": "code",
   "execution_count": null,
   "id": "353b52d9",
   "metadata": {},
   "outputs": [],
   "source": []
  },
  {
   "cell_type": "code",
   "execution_count": null,
   "id": "c66e13cc",
   "metadata": {},
   "outputs": [],
   "source": []
  },
  {
   "cell_type": "code",
   "execution_count": null,
   "id": "19e5e63e",
   "metadata": {},
   "outputs": [],
   "source": []
  },
  {
   "cell_type": "code",
   "execution_count": null,
   "id": "ebaa0412",
   "metadata": {},
   "outputs": [],
   "source": []
  },
  {
   "cell_type": "code",
   "execution_count": null,
   "id": "32a7c5ef",
   "metadata": {},
   "outputs": [],
   "source": []
  },
  {
   "cell_type": "code",
   "execution_count": null,
   "id": "8fd32f3e",
   "metadata": {},
   "outputs": [],
   "source": []
  },
  {
   "cell_type": "code",
   "execution_count": null,
   "id": "390e5290",
   "metadata": {},
   "outputs": [],
   "source": []
  },
  {
   "cell_type": "code",
   "execution_count": null,
   "id": "bdc63d24",
   "metadata": {},
   "outputs": [],
   "source": []
  },
  {
   "cell_type": "code",
   "execution_count": null,
   "id": "26b17297",
   "metadata": {},
   "outputs": [],
   "source": []
  },
  {
   "cell_type": "code",
   "execution_count": null,
   "id": "b051fd62",
   "metadata": {},
   "outputs": [],
   "source": []
  },
  {
   "cell_type": "code",
   "execution_count": null,
   "id": "eaa95abd",
   "metadata": {},
   "outputs": [],
   "source": []
  },
  {
   "cell_type": "code",
   "execution_count": null,
   "id": "7b4ea62d",
   "metadata": {},
   "outputs": [],
   "source": []
  },
  {
   "cell_type": "code",
   "execution_count": null,
   "id": "9a9544d8",
   "metadata": {},
   "outputs": [],
   "source": []
  },
  {
   "cell_type": "code",
   "execution_count": null,
   "id": "e8063bc0",
   "metadata": {},
   "outputs": [],
   "source": []
  },
  {
   "cell_type": "code",
   "execution_count": null,
   "id": "9685c494",
   "metadata": {},
   "outputs": [],
   "source": []
  },
  {
   "cell_type": "code",
   "execution_count": null,
   "id": "e0d2c06d",
   "metadata": {},
   "outputs": [],
   "source": []
  },
  {
   "cell_type": "code",
   "execution_count": null,
   "id": "9487e21a",
   "metadata": {},
   "outputs": [],
   "source": []
  },
  {
   "cell_type": "code",
   "execution_count": null,
   "id": "8f6f7870",
   "metadata": {},
   "outputs": [],
   "source": []
  },
  {
   "cell_type": "code",
   "execution_count": null,
   "id": "6aff5208",
   "metadata": {},
   "outputs": [],
   "source": []
  },
  {
   "cell_type": "code",
   "execution_count": null,
   "id": "aa76a33e",
   "metadata": {},
   "outputs": [],
   "source": []
  },
  {
   "cell_type": "code",
   "execution_count": null,
   "id": "0f062fe9",
   "metadata": {},
   "outputs": [],
   "source": []
  },
  {
   "cell_type": "code",
   "execution_count": null,
   "id": "3ff737db",
   "metadata": {},
   "outputs": [],
   "source": []
  },
  {
   "cell_type": "code",
   "execution_count": null,
   "id": "b6f5757d",
   "metadata": {},
   "outputs": [],
   "source": []
  },
  {
   "cell_type": "code",
   "execution_count": null,
   "id": "c2da2b2a",
   "metadata": {},
   "outputs": [],
   "source": []
  },
  {
   "cell_type": "code",
   "execution_count": null,
   "id": "437b656b",
   "metadata": {},
   "outputs": [],
   "source": []
  },
  {
   "cell_type": "code",
   "execution_count": null,
   "id": "845d0ace",
   "metadata": {},
   "outputs": [],
   "source": []
  },
  {
   "cell_type": "code",
   "execution_count": null,
   "id": "ab39a098",
   "metadata": {},
   "outputs": [],
   "source": []
  },
  {
   "cell_type": "code",
   "execution_count": null,
   "id": "8e9dd170",
   "metadata": {},
   "outputs": [],
   "source": []
  },
  {
   "cell_type": "code",
   "execution_count": null,
   "id": "53800b3d",
   "metadata": {},
   "outputs": [],
   "source": []
  },
  {
   "cell_type": "code",
   "execution_count": null,
   "id": "dcf6a2fe",
   "metadata": {},
   "outputs": [],
   "source": []
  },
  {
   "cell_type": "code",
   "execution_count": null,
   "id": "e32e7017",
   "metadata": {},
   "outputs": [],
   "source": []
  },
  {
   "cell_type": "code",
   "execution_count": null,
   "id": "da624500",
   "metadata": {},
   "outputs": [],
   "source": []
  },
  {
   "cell_type": "code",
   "execution_count": null,
   "id": "bf9d79d4",
   "metadata": {},
   "outputs": [],
   "source": []
  },
  {
   "cell_type": "code",
   "execution_count": null,
   "id": "907ad1ce",
   "metadata": {},
   "outputs": [],
   "source": []
  },
  {
   "cell_type": "code",
   "execution_count": null,
   "id": "f3cb769d",
   "metadata": {},
   "outputs": [],
   "source": []
  },
  {
   "cell_type": "code",
   "execution_count": null,
   "id": "3dd615e6",
   "metadata": {},
   "outputs": [],
   "source": []
  },
  {
   "cell_type": "code",
   "execution_count": null,
   "id": "ad170fd6",
   "metadata": {},
   "outputs": [],
   "source": []
  },
  {
   "cell_type": "code",
   "execution_count": null,
   "id": "4f289d94",
   "metadata": {},
   "outputs": [],
   "source": []
  },
  {
   "cell_type": "code",
   "execution_count": null,
   "id": "f66976c6",
   "metadata": {},
   "outputs": [],
   "source": []
  },
  {
   "cell_type": "code",
   "execution_count": null,
   "id": "c8cbf2f7",
   "metadata": {},
   "outputs": [],
   "source": []
  },
  {
   "cell_type": "code",
   "execution_count": null,
   "id": "d616c468",
   "metadata": {},
   "outputs": [],
   "source": []
  },
  {
   "cell_type": "code",
   "execution_count": null,
   "id": "407eb780",
   "metadata": {},
   "outputs": [],
   "source": []
  },
  {
   "cell_type": "code",
   "execution_count": null,
   "id": "7fc261f9",
   "metadata": {},
   "outputs": [],
   "source": []
  },
  {
   "cell_type": "code",
   "execution_count": null,
   "id": "912c2faf",
   "metadata": {},
   "outputs": [],
   "source": []
  },
  {
   "cell_type": "code",
   "execution_count": null,
   "id": "41ae5318",
   "metadata": {},
   "outputs": [],
   "source": []
  },
  {
   "cell_type": "code",
   "execution_count": null,
   "id": "ab3d92b6",
   "metadata": {},
   "outputs": [],
   "source": []
  },
  {
   "cell_type": "code",
   "execution_count": null,
   "id": "0377c98d",
   "metadata": {},
   "outputs": [],
   "source": []
  }
 ],
 "metadata": {
  "kernelspec": {
   "display_name": "myenv",
   "language": "python",
   "name": "python3"
  },
  "language_info": {
   "codemirror_mode": {
    "name": "ipython",
    "version": 3
   },
   "file_extension": ".py",
   "mimetype": "text/x-python",
   "name": "python",
   "nbconvert_exporter": "python",
   "pygments_lexer": "ipython3",
   "version": "3.10.8"
  }
 },
 "nbformat": 4,
 "nbformat_minor": 5
}
