{
 "cells": [
  {
   "cell_type": "markdown",
   "id": "e01a93f0",
   "metadata": {},
   "source": [
    "## String Output Parser"
   ]
  },
  {
   "cell_type": "code",
   "execution_count": 2,
   "id": "3c3ca513",
   "metadata": {},
   "outputs": [
    {
     "name": "stdout",
     "output_type": "stream",
     "text": [
      "As of my last knowledge update in October 2023, the President of the United States is Joe Biden. He was inaugurated on January 20, 2021. Please verify with up-to-date sources, as this information may change.\n"
     ]
    }
   ],
   "source": [
    "from json import load\n",
    "from langchain_openai import ChatOpenAI\n",
    "from langchain_core.prompts import PromptTemplate\n",
    "from langchain_core.output_parsers import StrOutputParser\n",
    "from dotenv import load_dotenv\n",
    "\n",
    "load_dotenv()\n",
    "\n",
    "llm = ChatOpenAI(model=\"gpt-4o-mini\", temperature=0.6)\n",
    "\n",
    "template = PromptTemplate.from_template(\"Who is the President of countrry {country}\")\n",
    "\n",
    "chat = template.invoke({\"country\": \"United States\"})\n",
    "result = llm.invoke(chat)\n",
    "print(result.content)"
   ]
  },
  {
   "cell_type": "markdown",
   "id": "c458fbf8",
   "metadata": {},
   "source": [
    "## Using Parser"
   ]
  },
  {
   "cell_type": "code",
   "execution_count": 3,
   "id": "7d74d9c0",
   "metadata": {},
   "outputs": [
    {
     "name": "stdout",
     "output_type": "stream",
     "text": [
      "As of my last update in October 2023, the President of the United States is Joe Biden. He took office on January 20, 2021. Please verify with up-to-date sources, as political positions can change.\n"
     ]
    }
   ],
   "source": [
    "parser = StrOutputParser()\n",
    "template = PromptTemplate.from_template(\"Who is the President of countrry {country}\")\n",
    "\n",
    "chat = template.invoke({\"country\": \"United States\"})\n",
    "result = llm.invoke(chat)\n",
    "final_result = parser.invoke(result)\n",
    "print(final_result)"
   ]
  },
  {
   "cell_type": "markdown",
   "id": "ffc34b47",
   "metadata": {},
   "source": [
    "## With chain"
   ]
  },
  {
   "cell_type": "code",
   "execution_count": 4,
   "id": "21a03755",
   "metadata": {},
   "outputs": [
    {
     "name": "stdout",
     "output_type": "stream",
     "text": [
      "As of my last update in October 2023, the President of India is Droupadi Murmu. She took office on July 25, 2022, becoming the first tribal woman to hold the position. Please verify with current sources for the most up-to-date information.\n"
     ]
    }
   ],
   "source": [
    "parser = StrOutputParser()\n",
    "llm = ChatOpenAI(model=\"gpt-4o-mini\", temperature=0.6)\n",
    "template = PromptTemplate.from_template(\"Who is the President of countrry {country}\")\n",
    "\n",
    "chain = template | llm | parser\n",
    "\n",
    "result = chain.invoke({\"country\": \"India\"})\n",
    "\n",
    "print(result)\n",
    "\n"
   ]
  },
  {
   "cell_type": "markdown",
   "id": "946cc69e",
   "metadata": {},
   "source": [
    "## Json Output Parser"
   ]
  },
  {
   "cell_type": "code",
   "execution_count": 5,
   "id": "f9d65f33",
   "metadata": {},
   "outputs": [
    {
     "name": "stdout",
     "output_type": "stream",
     "text": [
      "{'Name': 'Samsung Galaxy S24 Ultra', 'Price': 1199, 'Category': 'smartphone', 'features': ['200MP camera', 'S-Pen support', 'Snapdragon 8 Gen 3 processor', '5000mAh battery']}\n"
     ]
    }
   ],
   "source": [
    "from langchain_core.output_parsers import JsonOutputParser\n",
    "from langchain_core.prompts import PromptTemplate\n",
    "\n",
    "json_parser = JsonOutputParser()\n",
    "\n",
    "template = PromptTemplate.from_template(\"\"\"\n",
    "Extract the following product information from the text and retun it as a JSON:\n",
    "- Name\n",
    "-Price\n",
    "- Category\n",
    "-features (list)\n",
    "\n",
    "text: {text}\n",
    "format_instructions: {format_instructions}                                                                                                           \n",
    "\"\"\",\n",
    "\n",
    "partial_variables= {\"format_instructions\": json_parser.get_format_instructions() }\n",
    "                                        \n",
    ")\n",
    "\n",
    "chain = template | llm | json_parser\n",
    "\n",
    "text = \"\"\"\n",
    "The Samsung Galaxy S24 Ultra was launched at $1199. \n",
    "It belongs to the smartphone category. \n",
    "Main features include a 200MP camera, S-Pen support, Snapdragon 8 Gen 3 processor, and a 5000mAh battery.\n",
    "\"\"\"\n",
    "result = chain.invoke({\"text\": text})\n",
    "print(result)"
   ]
  },
  {
   "cell_type": "markdown",
   "id": "1621797d",
   "metadata": {},
   "source": [
    "## Pydantic Output Parser"
   ]
  },
  {
   "cell_type": "code",
   "execution_count": 7,
   "id": "94354e2c",
   "metadata": {},
   "outputs": [
    {
     "name": "stdout",
     "output_type": "stream",
     "text": [
      "titile='Inception' release_year=2010 genres=['science fiction', 'action', 'thriller'] rating=8.8 box_office=829.9\n"
     ]
    }
   ],
   "source": [
    "from platform import release\n",
    "from langchain_core.output_parsers import PydanticOutputParser\n",
    "from langchain_openai import ChatOpenAI\n",
    "from langchain_core.prompts import PromptTemplate\n",
    "from pydantic import BaseModel, Field\n",
    "from typing import List, Optional\n",
    "\n",
    "class Movie(BaseModel):\n",
    "  titile:str = Field(..., description=\"The title of the movie\")\n",
    "  release_year: int = Field(..., description=\"Year the movie was released\")\n",
    "  genres: List[str] = Field(..., description=\"List of genres the movie belongs to\")\n",
    "  rating: float = Field(..., description=\"Average rating of the movie on a scale of 1 to 10\")\n",
    "  box_office: Optional[float] = Field(None, description=\"Worldwide box office in millions USD, if known\")\n",
    "\n",
    "\n",
    "llm = ChatOpenAI(model=\"gpt-4o-mini\", temperature=0.6)\n",
    "\n",
    "pydantic_parser = PydanticOutputParser(pydantic_object=Movie)\n",
    "\n",
    "template = PromptTemplate.from_template(\"\"\"Extract movie information from the folloing text: \n",
    "{text}\n",
    "{format_instructions}\"\"\",\n",
    "partial_variables={\"format_instructions\": pydantic_parser.get_format_instructions()})\n",
    "\n",
    "chain = template | llm | pydantic_parser\n",
    "\n",
    "text = \"\"\"\n",
    "The movie 'Inception', directed by Christopher Nolan, was released in 2010. \n",
    "It falls under the genres of science fiction, action, and thriller. \n",
    "It holds an average rating of 8.8 out of 10. \n",
    "The film grossed approximately $829.9 million at the global box office.\n",
    "\"\"\"\n",
    "\n",
    "result = chain.invoke({\"text\": text})\n",
    "print(result)"
   ]
  },
  {
   "cell_type": "code",
   "execution_count": null,
   "id": "17813e75",
   "metadata": {},
   "outputs": [],
   "source": []
  }
 ],
 "metadata": {
  "kernelspec": {
   "display_name": "myenv",
   "language": "python",
   "name": "python3"
  },
  "language_info": {
   "codemirror_mode": {
    "name": "ipython",
    "version": 3
   },
   "file_extension": ".py",
   "mimetype": "text/x-python",
   "name": "python",
   "nbconvert_exporter": "python",
   "pygments_lexer": "ipython3",
   "version": "3.10.8"
  }
 },
 "nbformat": 4,
 "nbformat_minor": 5
}
