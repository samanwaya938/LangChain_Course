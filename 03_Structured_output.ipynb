{
 "cells": [
  {
   "cell_type": "markdown",
   "id": "bec55030",
   "metadata": {},
   "source": [
    "## TypedDict"
   ]
  },
  {
   "cell_type": "code",
   "execution_count": 6,
   "id": "962d1116",
   "metadata": {},
   "outputs": [
    {
     "name": "stdout",
     "output_type": "stream",
     "text": [
      "12\n"
     ]
    }
   ],
   "source": [
    "from langchain_openai import ChatOpenAI\n",
    "from typing import List, Optional, Annotated, TypedDict\n",
    "from dotenv import load_dotenv\n",
    "\n",
    "load_dotenv()\n",
    "\n",
    "llm = ChatOpenAI(model=\"gpt-4o-mini\", temperature=0.6)\n",
    "\n",
    "class Movie(TypedDict):\n",
    "\n",
    "  title: Annotated[str, \"Name of the movie\"]\n",
    "  release_year: Annotated[int, \"Year the movie was released\"]\n",
    "  genres: Annotated[List[str], \"List of genres the movie belongs to\"]\n",
    "  rating: Annotated[float, \"Average rating of the movie on a scale of 1 to 10\"]\n",
    "  box_office: Annotated[Optional[float], \"Worldwide box office in millions USD, if known\"]\n",
    "\n",
    "structured_llm = llm.with_structured_output(Movie)\n",
    "\n",
    "result = structured_llm.invoke(\"Give me details of a movie named Inception\")\n",
    "\n",
    "# print(result)\n",
    "# print(type(result))\n",
    "\n",
    "movie = Movie({\"title\":12})\n",
    "print(movie[\"title\"])\n"
   ]
  },
  {
   "cell_type": "markdown",
   "id": "42b4f2a4",
   "metadata": {},
   "source": [
    "## Pydantic"
   ]
  },
  {
   "cell_type": "code",
   "execution_count": 11,
   "id": "570f859b",
   "metadata": {},
   "outputs": [
    {
     "name": "stdout",
     "output_type": "stream",
     "text": [
      "title='Inception' release_year=2010 genres=['Sci-Fi', 'Action', 'Adventure'] rating=8.8 box_office=None\n"
     ]
    }
   ],
   "source": [
    "from langchain_openai import ChatOpenAI\n",
    "from pydantic import BaseModel, Field\n",
    "from typing import List, Optional\n",
    "import dotenv\n",
    "\n",
    "\n",
    "dotenv.load_dotenv()\n",
    "\n",
    "llm = ChatOpenAI(model=\"gpt-4o-mini\", temperature=0.6)\n",
    "\n",
    "class Movie(BaseModel):\n",
    "  title: str = Field(..., description=\"Name of the movie\")\n",
    "  release_year: int = Field(..., description= \"Year the movie was released\")\n",
    "  genres: List[str] = Field(..., description= \"List of genres the movie belongs to\")\n",
    "  rating: float = Field(..., description= \"Average rating of the movie on a scale of 1 to 10\")\n",
    "  box_office: Optional[float] = Field(..., description= \"Worldwide box office in millions USD, if known\")\n",
    "\n",
    "\n",
    "structured_llm = llm.with_structured_output(Movie)\n",
    "\n",
    "\n",
    "result = structured_llm.invoke(\"Give me details about the movie Inception.\")\n",
    "\n",
    "# print(result)\n",
    "# print(type(result))\n",
    "# print(result.model_dump())\n",
    "# print(result.model_dump_json())\n",
    "\n",
    "movie = Movie(genres=[\"Sci-Fi\", \"Action\", \"Adventure\"], \n",
    "              title=\"Inception\", \n",
    "              release_year=2010, \n",
    "              rating=8.8,\n",
    "              box_office=None)\n",
    "print(movie)"
   ]
  },
  {
   "cell_type": "markdown",
   "id": "6f68ea5d",
   "metadata": {},
   "source": [
    "## JSON_Schema"
   ]
  },
  {
   "cell_type": "code",
   "execution_count": 12,
   "id": "d18bf433",
   "metadata": {},
   "outputs": [
    {
     "name": "stdout",
     "output_type": "stream",
     "text": [
      "{'title': 'Inception', 'release_year': 2010, 'genres': ['Action', 'Adventure', 'Sci-Fi', 'Thriller'], 'rating': 8.8, 'box_office': 836.8}\n"
     ]
    }
   ],
   "source": [
    "from langchain_openai import ChatOpenAI\n",
    "import dotenv\n",
    "\n",
    "dotenv.load_dotenv()\n",
    "\n",
    "llm = ChatOpenAI(model=\"gpt-4o-mini\", temperature=0)\n",
    "\n",
    "# ✅ Correct JSON Schema for LangChain / OpenAI function calling\n",
    "movie_json_schema = {\n",
    "    \"name\": \"movie_schema\",\n",
    "    \"description\": \"Schema for extracting movie information\",\n",
    "    \"parameters\": {\n",
    "        \"type\": \"object\",\n",
    "        \"properties\": {\n",
    "            \"title\": {\n",
    "                \"type\": \"string\",\n",
    "                \"description\": \"Name of the movie\"\n",
    "            },\n",
    "            \"release_year\": {\n",
    "                \"type\": \"integer\",\n",
    "                \"description\": \"Year the movie was released\"\n",
    "            },\n",
    "            \"genres\": {\n",
    "                \"type\": \"array\",\n",
    "                \"items\": {\"type\": \"string\"},\n",
    "                \"description\": \"List of genres the movie belongs to\"\n",
    "            },\n",
    "            \"rating\": {\n",
    "                \"type\": \"number\",\n",
    "                \"description\": \"Average rating of the movie on a scale of 1 to 10\"\n",
    "            },\n",
    "            \"box_office\": {\n",
    "                \"type\": [\"number\", \"null\"],\n",
    "                \"description\": \"Worldwide box office in millions USD, if known\"\n",
    "            }\n",
    "        },\n",
    "        \"required\": [\"title\", \"release_year\", \"genres\", \"rating\", \"box_office\"]\n",
    "    }\n",
    "}\n",
    "\n",
    "structured_llm = llm.with_structured_output(movie_json_schema)\n",
    "\n",
    "result = structured_llm.invoke(\"Give me details about the movie Inception.\")\n",
    "print(result)"
   ]
  },
  {
   "cell_type": "code",
   "execution_count": 13,
   "id": "eddb630f",
   "metadata": {},
   "outputs": [
    {
     "name": "stdout",
     "output_type": "stream",
     "text": [
      "product_name='Bose QuietComfort 45 Noise Cancelling Headphones' reviewer_name='John Doe' rating=4.5 pros=['Outstanding noise cancellation', 'Excellent sound quality', 'Comfortable for long listening sessions', 'Exceptional battery life', 'Seamless Bluetooth pairing'] cons=['Touch controls can be finicky', 'Case is slightly bulky for travel'] review_text='I recently purchased the Bose QuietComfort 45 Noise Cancelling Headphones about three months ago, and I have been using them almost daily since then. As someone who works from home and also travels frequently, I needed headphones that could block out distractions, deliver excellent audio quality, and remain comfortable for long listening sessions. The QC45s absolutely deliver in most of these aspects.\\n\\nFirst, the noise cancellation is outstanding. On a recent flight from New York to London, the cabin noise was reduced to a soft whisper, allowing me to enjoy my music and podcasts without cranking up the volume. Even at home, they help me focus by muting the hum of my air conditioner and the occasional street noise.\\n\\nThe sound quality is top-notch. The bass is deep but not overpowering, the mids are clear, and the highs are crisp. Whether I’m listening to jazz, classical music, or electronic tracks, everything sounds balanced and immersive. Bluetooth pairing is seamless, and the connection has been rock solid even when I move around my apartment.\\n\\nComfort-wise, I can wear them for 4–5 hours straight without any ear fatigue. The ear cups are soft and well-cushioned, and the clamping force is just right. The build quality feels premium, with smooth adjustments and a sturdy frame.\\n\\nBattery life is exceptional — I’ve easily gotten over 22 hours of use on a single charge, and the quick-charge feature is a lifesaver when I forget to plug them in overnight.\\n\\nHowever, they are not perfect. The touch controls can be a bit finicky, especially in cold weather when I’m wearing gloves. Additionally, the case feels slightly bulky if you’re trying to travel light.\\n\\nOverall, these headphones have exceeded my expectations. For anyone looking for premium noise-cancelling headphones for travel, work, or daily use, I would highly recommend them without hesitation.' would_recommend=True purchase_date='2023-07-15'\n"
     ]
    }
   ],
   "source": [
    "from typing import List, Optional\n",
    "from pydantic import BaseModel, Field\n",
    "from langchain_openai import ChatOpenAI\n",
    "\n",
    "\n",
    "class ProductReview(BaseModel):\n",
    "    product_name: str = Field(..., description=\"Name of the product being reviewed\")\n",
    "    reviewer_name: str = Field(..., description=\"Name of the reviewer\")\n",
    "    rating: float = Field(..., description=\"Product rating given by the reviewer on a scale of 1 to 5\")\n",
    "    pros: List[str] = Field(..., description=\"List of positive aspects of the product\")\n",
    "    cons: List[str] = Field(..., description=\"List of negative aspects of the product\")\n",
    "    review_text: str = Field(..., description=\"Detailed written review of the product\")\n",
    "    would_recommend: bool = Field(..., description=\"Whether the reviewer recommends the product\")\n",
    "    purchase_date: Optional[str] = Field(None, description=\"Date when the product was purchased (YYYY-MM-DD)\")\n",
    "\n",
    "\n",
    "llm = ChatOpenAI(model=\"gpt-4o-mini\", temperature=0.6)\n",
    "structured_llm = llm.with_structured_output(ProductReview)\n",
    "\n",
    "result = structured_llm.invoke(\"\"\"I recently purchased the Bose QuietComfort 45 Noise Cancelling Headphones about three months ago, and I have been using them almost daily since then. As someone who works from home and also travels frequently, I needed headphones that could block out distractions, deliver excellent audio quality, and remain comfortable for long listening sessions. The QC45s absolutely deliver in most of these aspects.\n",
    "\n",
    "First, the noise cancellation is outstanding. On a recent flight from New York to London, the cabin noise was reduced to a soft whisper, allowing me to enjoy my music and podcasts without cranking up the volume. Even at home, they help me focus by muting the hum of my air conditioner and the occasional street noise.\n",
    "\n",
    "The sound quality is top-notch. The bass is deep but not overpowering, the mids are clear, and the highs are crisp. Whether I’m listening to jazz, classical music, or electronic tracks, everything sounds balanced and immersive. Bluetooth pairing is seamless, and the connection has been rock solid even when I move around my apartment.\n",
    "\n",
    "Comfort-wise, I can wear them for 4–5 hours straight without any ear fatigue. The ear cups are soft and well-cushioned, and the clamping force is just right. The build quality feels premium, with smooth adjustments and a sturdy frame.\n",
    "\n",
    "Battery life is exceptional — I’ve easily gotten over 22 hours of use on a single charge, and the quick-charge feature is a lifesaver when I forget to plug them in overnight.\n",
    "\n",
    "However, they are not perfect. The touch controls can be a bit finicky, especially in cold weather when I’m wearing gloves. Additionally, the case feels slightly bulky if you’re trying to travel light.\n",
    "\n",
    "Overall, these headphones have exceeded my expectations. For anyone looking for premium noise-cancelling headphones for travel, work, or daily use, I would highly recommend them without hesitation.\n",
    "\"\"\")\n",
    "print(result)\n",
    "\n"
   ]
  },
  {
   "cell_type": "code",
   "execution_count": null,
   "id": "512df474",
   "metadata": {},
   "outputs": [],
   "source": []
  }
 ],
 "metadata": {
  "kernelspec": {
   "display_name": "myenv",
   "language": "python",
   "name": "python3"
  },
  "language_info": {
   "codemirror_mode": {
    "name": "ipython",
    "version": 3
   },
   "file_extension": ".py",
   "mimetype": "text/x-python",
   "name": "python",
   "nbconvert_exporter": "python",
   "pygments_lexer": "ipython3",
   "version": "3.10.8"
  }
 },
 "nbformat": 4,
 "nbformat_minor": 5
}
